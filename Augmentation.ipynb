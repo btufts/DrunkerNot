{
  "nbformat": 4,
  "nbformat_minor": 0,
  "metadata": {
    "colab": {
      "name": "Augmentation.ipynb",
      "provenance": []
    },
    "kernelspec": {
      "name": "python3",
      "display_name": "Python 3"
    },
    "language_info": {
      "name": "python"
    }
  },
  "cells": [
    {
      "cell_type": "code",
      "execution_count": null,
      "metadata": {
        "id": "hU7oTMARrX-X"
      },
      "outputs": [],
      "source": [
        "# Data Augmentation Script\n",
        "\n",
        "from PIL import Image\n",
        "import os\n",
        "import numpy as np\n",
        "from keras.preprocessing.image import ImageDataGenerator\n",
        "from skimage import io\n",
        "datagen = ImageDataGenerator(\n",
        "    rotation_range=40,\n",
        "    shear_range=0.2,\n",
        "    zoom_range=0.2,\n",
        "    horizontal_flip=True,\n",
        "    brightness_range=(0.5, 1.5))\n",
        "image_directory = 'TrainPhotos/DrunkProcessed/'\n",
        "SIZE = 299\n",
        "dataset = []\n",
        "my_images = os.listdir(image_directory)\n",
        "for i, image_name in enumerate(my_images):\n",
        "    if (image_name.split('.')[1] == 'jpg'):\n",
        "        image = io.imread(image_directory + image_name)\n",
        "        image = Image.fromarray(image, 'RGB')\n",
        "        image = image.resize((SIZE, SIZE))\n",
        "        dataset.append(np.array(image))\n",
        "x = np.array(dataset)\n",
        "i = 0\n",
        "for batch in datagen.flow(x, batch_size=2,\n",
        "                          save_to_dir='Extra',\n",
        "                          save_prefix='dr',\n",
        "                          save_format='jpg'):\n",
        "    i += 1\n",
        "    if i > 50:\n",
        "        break"
      ]
    }
  ]
}