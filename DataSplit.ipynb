{
  "nbformat": 4,
  "nbformat_minor": 0,
  "metadata": {
    "colab": {
      "name": "DataSplit.ipynb",
      "provenance": []
    },
    "kernelspec": {
      "name": "python3",
      "display_name": "Python 3"
    },
    "language_info": {
      "name": "python"
    }
  },
  "cells": [
    {
      "cell_type": "code",
      "execution_count": null,
      "metadata": {
        "id": "RXjSjrN7rkSO"
      },
      "outputs": [],
      "source": [
        "# Random Data Split Script\n",
        "\n",
        "import os\n",
        "import shutil\n",
        "import glob\n",
        "import random\n",
        "\n",
        "to_be_moved = random.sample(glob.glob(\"Photos/SoberProcessed/*.jpg\"), 24)\n",
        "\n",
        "for f in enumerate(to_be_moved, 1):\n",
        "    dest = os.path.join(\"Extra\")\n",
        "    if not os.path.exists(dest):\n",
        "        os.makedirs(dest)\n",
        "    shutil.copy(f[1], dest)"
      ]
    }
  ]
}